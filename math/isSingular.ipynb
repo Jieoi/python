{
 "cells": [
  {
   "cell_type": "code",
   "execution_count": 1,
   "id": "ee1fc948",
   "metadata": {},
   "outputs": [],
   "source": [
    "import numpy as np"
   ]
  },
  {
   "cell_type": "code",
   "execution_count": 2,
   "id": "856fb86a",
   "metadata": {},
   "outputs": [],
   "source": [
    "# error flag, for when things go wrong if the matrix is singular.\n",
    "class SingularMatrix(Exception): pass"
   ]
  },
  {
   "cell_type": "code",
   "execution_count": 3,
   "id": "71186b7c",
   "metadata": {},
   "outputs": [],
   "source": [
    "#function to go down the matrix and replace the numbers in each row and change to upper triangle form\n",
    "#if it is unable to replace the number in diagonal to be one, return true, else return false\n",
    "def isSingular(A) :\n",
    "    #B is a local copy of the matix, as it value is going to be changed\n",
    "    B = np.array(A, dtype=np.float_) \n",
    "    try:\n",
    "        fixRowZero(B)\n",
    "        fixRowOne(B)\n",
    "        fixRowTwo(B)\n",
    "        fixRowThree(B)\n",
    "    except SingularMatrix:\n",
    "        return True\n",
    "    return False"
   ]
  },
  {
   "cell_type": "code",
   "execution_count": 4,
   "id": "d94e05a2",
   "metadata": {},
   "outputs": [],
   "source": [
    "def fixRowZero(A) :\n",
    "    # add the rows below row 0 to make sure it is not 0\n",
    "    if A[0,0] == 0 :\n",
    "        A[0] = A[0] + A[1]\n",
    "    if A[0,0] == 0 :\n",
    "        A[0] = A[0] + A[2]\n",
    "    if A[0,0] == 0 :\n",
    "        A[0] = A[0] + A[3]\n",
    "    # if element 1 for all rows are 0\n",
    "    if A[0,0] == 0 :\n",
    "        raise SingularMatrix()\n",
    "    # set first element to be 1\n",
    "    A[0] = A[0] / A[0,0] \n",
    "    return A"
   ]
  },
  {
   "cell_type": "code",
   "execution_count": 5,
   "id": "3e645258",
   "metadata": {},
   "outputs": [],
   "source": [
    "def fixRowOne(A) :\n",
    "    # set the A[1,0] to zero as it is below the diagonal\n",
    "    A[1] = A[1] - A[1,0] * A[0] \n",
    "    # add the rows below to make sure the number on the diagonal is not 0\n",
    "    if A[1,1] == 0 :\n",
    "        A[1] = A[1] + A[2]\n",
    "        # set elements below the diagonal to be zero\n",
    "        A[1] = A[1] - A[1,0] * A[0]\n",
    "    if A[1,1] == 0 :\n",
    "        A[1] = A[1] + A[3]\n",
    "        # set elements below the diagonal to be zero\n",
    "        A[1] = A[1] - A[1,0] * A[0]\n",
    "    # if element on the diagonal on this row are still 0\n",
    "    if A[1,1] == 0 :\n",
    "        raise SingularMatrix()\n",
    "    # set the number on the diagonal to be 1\n",
    "    A[1] = A[1] / A[1,1] \n",
    "    return A"
   ]
  },
  {
   "cell_type": "code",
   "execution_count": 6,
   "id": "8b8445c1",
   "metadata": {},
   "outputs": [],
   "source": [
    "def fixRowTwo(A) :\n",
    "    # set the A[2,0]  and a[2,1] to zero as they are below the diagonal\n",
    "    A[2] = A[2]-A[2,0]*A[0]\n",
    "    A[2] = A[2]-A[2,1]*A[1]\n",
    "    # add the rows below to make sure the number on the diagonal is not 0\n",
    "    if A[2,2] == 0 :\n",
    "        A[2] = A[2]+A[3]\n",
    "        # set elements below the diagonal to be zero.\n",
    "        A[2] = A[2]-A[2,0]*A[0]\n",
    "        A[2] = A[2]-A[2,1]*A[1]\n",
    "    # if element on the diagonal on this row are still 0\n",
    "    if A[2,2] == 0 :\n",
    "        raise SingularMatrix()\n",
    "    # set the number on the diagonal to be 1\n",
    "    A[2]=A[2]/A[2,2]\n",
    "    return A"
   ]
  },
  {
   "cell_type": "code",
   "execution_count": 7,
   "id": "1d135207",
   "metadata": {},
   "outputs": [],
   "source": [
    "def fixRowThree(A) :\n",
    "    # set elements below the diagonal to be zero.\n",
    "    A[3] = A[3] - A[3,0]*A[0]\n",
    "    A[3] = A[3] - A[3,1]*A[1]\n",
    "    A[3] = A[3] - A[3,2]*A[2]\n",
    "    # if element on the diagonal on this row are still 0\n",
    "    if A[3,3] == 0:\n",
    "        raise SingularMatrix()\n",
    "    # set the number on the diagonal to be 1\n",
    "    A[3]=A[3]/A[3,3]\n",
    "    return A"
   ]
  },
  {
   "cell_type": "markdown",
   "id": "10ee7d00",
   "metadata": {},
   "source": [
    "<h1>Test</h1>"
   ]
  },
  {
   "cell_type": "code",
   "execution_count": 8,
   "id": "9c6808e9",
   "metadata": {},
   "outputs": [
    {
     "data": {
      "text/plain": [
       "True"
      ]
     },
     "execution_count": 8,
     "metadata": {},
     "output_type": "execute_result"
    }
   ],
   "source": [
    "A = np.array([\n",
    "        [3, 3, 0, 0],\n",
    "        [0, 3, 3, 0],\n",
    "        [0, 0, 7, 7],\n",
    "        [0, 0, 2, 2]\n",
    "    ], dtype=np.float_)\n",
    "isSingular(A)"
   ]
  },
  {
   "cell_type": "code",
   "execution_count": 9,
   "id": "96c2ceb4",
   "metadata": {},
   "outputs": [
    {
     "data": {
      "text/plain": [
       "False"
      ]
     },
     "execution_count": 9,
     "metadata": {},
     "output_type": "execute_result"
    }
   ],
   "source": [
    "A = np.array([\n",
    "        [3, 4, 5, -6],\n",
    "        [0, 7, 8, 9],\n",
    "        [0, 0, 2, 3],\n",
    "        [0, 0, 2, 5]\n",
    "    ], dtype=np.float_)\n",
    "isSingular(A)"
   ]
  },
  {
   "cell_type": "code",
   "execution_count": 10,
   "id": "69a23d24",
   "metadata": {},
   "outputs": [
    {
     "data": {
      "text/plain": [
       "array([[ 1.        ,  1.33333333,  1.66666667, -2.        ],\n",
       "       [ 0.        ,  7.        ,  8.        ,  9.        ],\n",
       "       [ 0.        ,  0.        ,  2.        ,  3.        ],\n",
       "       [ 0.        ,  0.        ,  2.        ,  5.        ]])"
      ]
     },
     "execution_count": 10,
     "metadata": {},
     "output_type": "execute_result"
    }
   ],
   "source": [
    "fixRowZero(A)"
   ]
  },
  {
   "cell_type": "code",
   "execution_count": 11,
   "id": "36a866d0",
   "metadata": {},
   "outputs": [
    {
     "data": {
      "text/plain": [
       "array([[ 1.        ,  1.33333333,  1.66666667, -2.        ],\n",
       "       [ 0.        ,  1.        ,  1.14285714,  1.28571429],\n",
       "       [ 0.        ,  0.        ,  2.        ,  3.        ],\n",
       "       [ 0.        ,  0.        ,  2.        ,  5.        ]])"
      ]
     },
     "execution_count": 11,
     "metadata": {},
     "output_type": "execute_result"
    }
   ],
   "source": [
    "fixRowOne(A)"
   ]
  },
  {
   "cell_type": "code",
   "execution_count": 12,
   "id": "eff89694",
   "metadata": {},
   "outputs": [
    {
     "data": {
      "text/plain": [
       "array([[ 1.        ,  1.33333333,  1.66666667, -2.        ],\n",
       "       [ 0.        ,  1.        ,  1.14285714,  1.28571429],\n",
       "       [ 0.        ,  0.        ,  1.        ,  1.5       ],\n",
       "       [ 0.        ,  0.        ,  2.        ,  5.        ]])"
      ]
     },
     "execution_count": 12,
     "metadata": {},
     "output_type": "execute_result"
    }
   ],
   "source": [
    "fixRowTwo(A)"
   ]
  },
  {
   "cell_type": "code",
   "execution_count": 13,
   "id": "1350edef",
   "metadata": {},
   "outputs": [
    {
     "data": {
      "text/plain": [
       "array([[ 1.        ,  1.33333333,  1.66666667, -2.        ],\n",
       "       [ 0.        ,  1.        ,  1.14285714,  1.28571429],\n",
       "       [ 0.        ,  0.        ,  1.        ,  1.5       ],\n",
       "       [ 0.        ,  0.        ,  0.        ,  1.        ]])"
      ]
     },
     "execution_count": 13,
     "metadata": {},
     "output_type": "execute_result"
    }
   ],
   "source": [
    "fixRowThree(A)"
   ]
  },
  {
   "cell_type": "code",
   "execution_count": null,
   "id": "125f0bd8",
   "metadata": {},
   "outputs": [],
   "source": []
  }
 ],
 "metadata": {
  "kernelspec": {
   "display_name": "Python 3 (ipykernel)",
   "language": "python",
   "name": "python3"
  },
  "language_info": {
   "codemirror_mode": {
    "name": "ipython",
    "version": 3
   },
   "file_extension": ".py",
   "mimetype": "text/x-python",
   "name": "python",
   "nbconvert_exporter": "python",
   "pygments_lexer": "ipython3",
   "version": "3.10.2"
  }
 },
 "nbformat": 4,
 "nbformat_minor": 5
}
