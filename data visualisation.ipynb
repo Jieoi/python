{
 "cells": [
  {
   "cell_type": "code",
   "execution_count": 1,
   "id": "aa9967bd",
   "metadata": {},
   "outputs": [],
   "source": [
    "%matplotlib inline"
   ]
  },
  {
   "cell_type": "code",
   "execution_count": 6,
   "id": "83f02d60",
   "metadata": {},
   "outputs": [],
   "source": [
    "import numpy as np\n",
    "import pandas as pd\n",
    "from scipy import stats\n",
    "import matplotlib as mpl\n",
    "import matplotlib.pyplot as plt \n",
    "import seaborn as sns"
   ]
  },
  {
   "cell_type": "markdown",
   "id": "834ce24c",
   "metadata": {},
   "source": [
    "# Data"
   ]
  },
  {
   "cell_type": "code",
   "execution_count": 9,
   "id": "ccb5a142",
   "metadata": {},
   "outputs": [
    {
     "data": {
      "text/html": [
       "<div>\n",
       "<style scoped>\n",
       "    .dataframe tbody tr th:only-of-type {\n",
       "        vertical-align: middle;\n",
       "    }\n",
       "\n",
       "    .dataframe tbody tr th {\n",
       "        vertical-align: top;\n",
       "    }\n",
       "\n",
       "    .dataframe thead th {\n",
       "        text-align: right;\n",
       "    }\n",
       "</style>\n",
       "<table border=\"1\" class=\"dataframe\">\n",
       "  <thead>\n",
       "    <tr style=\"text-align: right;\">\n",
       "      <th></th>\n",
       "      <th>x</th>\n",
       "      <th>y</th>\n",
       "    </tr>\n",
       "  </thead>\n",
       "  <tbody>\n",
       "    <tr>\n",
       "      <th>0</th>\n",
       "      <td>0.614676</td>\n",
       "      <td>-1.449035</td>\n",
       "    </tr>\n",
       "    <tr>\n",
       "      <th>1</th>\n",
       "      <td>-0.303780</td>\n",
       "      <td>1.251950</td>\n",
       "    </tr>\n",
       "    <tr>\n",
       "      <th>2</th>\n",
       "      <td>0.841359</td>\n",
       "      <td>1.405955</td>\n",
       "    </tr>\n",
       "    <tr>\n",
       "      <th>3</th>\n",
       "      <td>1.890558</td>\n",
       "      <td>-0.178115</td>\n",
       "    </tr>\n",
       "    <tr>\n",
       "      <th>4</th>\n",
       "      <td>-0.380311</td>\n",
       "      <td>0.166713</td>\n",
       "    </tr>\n",
       "  </tbody>\n",
       "</table>\n",
       "</div>"
      ],
      "text/plain": [
       "          x         y\n",
       "0  0.614676 -1.449035\n",
       "1 -0.303780  1.251950\n",
       "2  0.841359  1.405955\n",
       "3  1.890558 -0.178115\n",
       "4 -0.380311  0.166713"
      ]
     },
     "execution_count": 9,
     "metadata": {},
     "output_type": "execute_result"
    }
   ],
   "source": [
    "n = 100\n",
    "\n",
    "df = pd.DataFrame({\n",
    "    'x':np.random.normal(0,1,n), #normally distributed data, mean 0, std 1, n values\n",
    "    'y':np.random.normal(0,2,n) #normally distributed data, mean 0, std 2, n values\n",
    "})\n",
    "\n",
    "df.head()"
   ]
  },
  {
   "cell_type": "markdown",
   "id": "5613f519",
   "metadata": {},
   "source": [
    "# Pyplot"
   ]
  },
  {
   "cell_type": "code",
   "execution_count": 10,
   "id": "42ba9744",
   "metadata": {},
   "outputs": [
    {
     "data": {
      "image/png": "[encoded data removed]",
      "text/plain": [
       "<Figure size 432x288 with 1 Axes>"
      ]
     },
     "metadata": {
      "needs_background": "light"
     },
     "output_type": "display_data"
    }
   ],
   "source": [
    "plt.hist(df['x'])\n",
    "\n",
    "plt.show() #only visualisation"
   ]
  },
  {
   "cell_type": "code",
   "execution_count": 11,
   "id": "0c67980b",
   "metadata": {},
   "outputs": [
    {
     "data": {
      "text/plain": [
       "(array([[ 0.,  2.,  8., 14., 29., 31., 12.,  3.,  1.,  0.],\n",
       "        [ 4.,  5.,  8., 10., 22., 15., 10.,  9., 11.,  6.]]),\n",
       " array([-3.83541481, -3.03166071, -2.22790661, -1.4241525 , -0.6203984 ,\n",
       "         0.1833557 ,  0.9871098 ,  1.7908639 ,  2.594618  ,  3.3983721 ,\n",
       "         4.20212621]),\n",
       " <a list of 2 BarContainer objects>)"
      ]
     },
     "execution_count": 11,
     "metadata": {},
     "output_type": "execute_result"
    },
    {
     "data": {
      "image/png": "[encoded data removed]",
      "text/plain": [
       "<Figure size 432x288 with 1 Axes>"
      ]
     },
     "metadata": {
      "needs_background": "light"
     },
     "output_type": "display_data"
    }
   ],
   "source": [
    "plt.hist(df)"
   ]
  },
  {
   "cell_type": "markdown",
   "id": "bd067cf7",
   "metadata": {},
   "source": [
    "# plt api"
   ]
  },
  {
   "cell_type": "code",
   "execution_count": 21,
   "id": "d5139fa4",
   "metadata": {},
   "outputs": [
    {
     "data": {
      "image/png": "[encoded data removed]",
      "text/plain": [
       "<Figure size 432x288 with 2 Axes>"
      ]
     },
     "metadata": {
      "needs_background": "light"
     },
     "output_type": "display_data"
    }
   ],
   "source": [
    "plt.figure()\n",
    "\n",
    "#two subplot in the same figure\n",
    "plt.subplot(1,2,1) #one row , two column, current figure on 1\n",
    "plt.hist(df['x'])\n",
    "plt.title('x')\n",
    "plt.xlim(-6,6)\n",
    "plt.ylim(0,23)\n",
    "\n",
    "plt.subplot(1,2,2) #one row , two column, current figure on 2\n",
    "plt.hist(df['y'])\n",
    "plt.title('y')\n",
    "plt.xlim(-6,6)\n",
    "plt.ylim(0,23)\n",
    "\n",
    "plt.show()"
   ]
  },
  {
   "cell_type": "markdown",
   "id": "154e5d0c",
   "metadata": {},
   "source": [
    "# Object-oriented API"
   ]
  },
  {
   "cell_type": "code",
   "execution_count": 23,
   "id": "41ccc553",
   "metadata": {
    "scrolled": true
   },
   "outputs": [
    {
     "data": {
      "text/plain": [
       "array([<AxesSubplot:>, <AxesSubplot:>], dtype=object)"
      ]
     },
     "execution_count": 23,
     "metadata": {},
     "output_type": "execute_result"
    },
    {
     "data": {
      "image/png": "[encoded data removed]",
      "text/plain": [
       "<Figure size 432x288 with 2 Axes>"
      ]
     },
     "metadata": {
      "needs_background": "light"
     },
     "output_type": "display_data"
    }
   ],
   "source": [
    "fig, axes = plt.subplots(1,2) #with s\n",
    "\n",
    "axes"
   ]
  },
  {
   "cell_type": "markdown",
   "id": "62287b28",
   "metadata": {},
   "source": [
    " Previously we used a subplot command, but subplot is used in interactive mode to update the current figure whereas subplots is a function that will generate figure an axis for us and that we can save and then manipulates directly. "
   ]
  },
  {
   "cell_type": "code",
   "execution_count": 28,
   "id": "6f007fe8",
   "metadata": {},
   "outputs": [
    {
     "data": {
      "image/png": "[encoded data removed]",
      "text/plain": [
       "<Figure size 432x288 with 2 Axes>"
      ]
     },
     "metadata": {
      "needs_background": "light"
     },
     "output_type": "display_data"
    }
   ],
   "source": [
    "fig, axes = plt.subplots(1,2, sharex = True, sharey = True) #with s\n",
    "\n",
    "axes[0].hist(df['x'])#array index\n",
    "axes[0].set_title('x')\n",
    "\n",
    "axes[1].hist(df['y'])\n",
    "axes[1].set_title('y')\n",
    "\n",
    "plt.show()"
   ]
  },
  {
   "cell_type": "markdown",
   "id": "7dbf0566",
   "metadata": {},
   "source": [
    "# Pandas.plot API"
   ]
  },
  {
   "cell_type": "code",
   "execution_count": 30,
   "id": "1c31dd28",
   "metadata": {},
   "outputs": [
    {
     "data": {
      "image/png": "[encoded data removed]",
      "text/plain": [
       "<Figure size 432x288 with 2 Axes>"
      ]
     },
     "metadata": {
      "needs_background": "light"
     },
     "output_type": "display_data"
    }
   ],
   "source": [
    "fig, axes = plt.subplots(1,2, sharex = True, sharey = True)\n",
    "\n",
    "df.hist('x', ax=axes[0], grid=False)\n",
    "df.hist('x', ax=axes[1], grid=False)\n",
    "\n",
    "plt.show()"
   ]
  },
  {
   "cell_type": "code",
   "execution_count": 32,
   "id": "cb332142",
   "metadata": {},
   "outputs": [
    {
     "data": {
      "image/png": "[encoded data removed]",
      "text/plain": [
       "<Figure size 432x288 with 2 Axes>"
      ]
     },
     "metadata": {
      "needs_background": "light"
     },
     "output_type": "display_data"
    }
   ],
   "source": [
    "# no customisation\n",
    "df.hist(sharex = True, sharey = True)\n",
    "plt.show()"
   ]
  },
  {
   "cell_type": "code",
   "execution_count": null,
   "id": "f76a2c3d",
   "metadata": {},
   "outputs": [],
   "source": []
  }
 ],
 "metadata": {
  "kernelspec": {
   "display_name": "Python 3 (ipykernel)",
   "language": "python",
   "name": "python3"
  },
  "language_info": {
   "codemirror_mode": {
    "name": "ipython",
    "version": 3
   },
   "file_extension": ".py",
   "mimetype": "text/x-python",
   "name": "python",
   "nbconvert_exporter": "python",
   "pygments_lexer": "ipython3",
   "version": "3.10.2"
  }
 },
 "nbformat": 4,
 "nbformat_minor": 5
}
